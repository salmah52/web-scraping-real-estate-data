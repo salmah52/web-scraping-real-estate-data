{
 "cells": [
  {
   "cell_type": "code",
   "execution_count": 293,
   "metadata": {},
   "outputs": [],
   "source": [
    "import time\n",
    "from selenium import webdriver\n",
    "#from selenium.webdriver.chrome.options import Options\n",
    "from selenium.webdriver.support.select import Select\n",
    "from selenium.webdriver.common.by import By\n",
    "from selenium.webdriver.support.ui import WebDriverWait\n",
    "from selenium.webdriver.support import expected_conditions as EC\n",
    "\n",
    "#initialize Firefox"
   ]
  },
  {
   "cell_type": "code",
   "execution_count": 294,
   "metadata": {},
   "outputs": [],
   "source": [
    "\n",
    "with open(\"real_estate.csv\", \"w\", encoding=\"utf-8\") as file:\n",
    "    file.write(\"Room, Location, Description, Duration, Price, Bedroom, Bathroom, Toilet, Parking \\n\")\n",
    "    "
   ]
  },
  {
   "cell_type": "code",
   "execution_count": 295,
   "metadata": {},
   "outputs": [
    {
     "name": "stderr",
     "output_type": "stream",
     "text": [
      "C:\\Users\\lasis\\AppData\\Local\\Temp\\ipykernel_25828\\3562513525.py:5: DeprecationWarning: executable_path has been deprecated, please pass in a Service object\n",
      "  driver =webdriver.Chrome(executable_path= r\"C:\\Users\\lasis\\OneDrive\\Desktop\\webdrivers\\chromedriver.exe\")\n"
     ]
    }
   ],
   "source": [
    "#initialize Firefox\n",
    "#driver=webdriver.Firefox(executable_path='C:/bin/geckodriver.exe')\n",
    "\n",
    "#initialize Chrome\n",
    "driver =webdriver.Chrome(executable_path= r\"C:\\Users\\lasis\\OneDrive\\Desktop\\webdrivers\\chromedriver.exe\")\n",
    "\n",
    "\n",
    "#Open URL\n",
    "\n",
    "rent = \"https://nigeriapropertycentre.com/\"\n",
    "\n",
    "driver.get(rent)\n",
    "driver.maximize_window()"
   ]
  },
  {
   "cell_type": "code",
   "execution_count": 296,
   "metadata": {},
   "outputs": [],
   "source": [
    "#serach by rent\n",
    "rent = driver.find_element(By.XPATH,'//*[@id=\"li-cid-for-rent\"]/a/label')\n",
    "rent.click()"
   ]
  },
  {
   "cell_type": "code",
   "execution_count": 297,
   "metadata": {},
   "outputs": [],
   "source": [
    "#search by type\n",
    "type =  driver.find_element(By.XPATH,'//*[@id=\"tid\"]/option[2]')\n",
    "type.click()\n",
    "time.sleep(1)"
   ]
  },
  {
   "cell_type": "code",
   "execution_count": 298,
   "metadata": {},
   "outputs": [],
   "source": [
    "#seacr by bedroom\n",
    "bedroom =  driver.find_element(By.XPATH,'//*[@id=\"bedrooms\"]')\n",
    "bedroom.click()\n",
    "time.sleep(1)"
   ]
  },
  {
   "cell_type": "code",
   "execution_count": 299,
   "metadata": {},
   "outputs": [],
   "source": [
    "#seacr by minprice\n",
    "minprice =  driver.find_element(By.XPATH,'//*[@id=\"minprice\"]')\n",
    "minprice.click()\n",
    "time.sleep(1)"
   ]
  },
  {
   "cell_type": "code",
   "execution_count": 300,
   "metadata": {},
   "outputs": [],
   "source": [
    "#seacr by maxprice\n",
    "maxprice =  driver.find_element(By.XPATH,'//*[@id=\"maxprice\"]')\n",
    "maxprice.click()\n",
    "time.sleep(1)"
   ]
  },
  {
   "cell_type": "code",
   "execution_count": 301,
   "metadata": {},
   "outputs": [],
   "source": [
    "#seacr by search\n",
    "search =  driver.find_element(By.XPATH,'//*[@id=\"search_jsForm\"]/div[4]/div/div/div/div/div/div[2]/div/div[4]/button/span')\n",
    "search.click()\n",
    "time.sleep(1)"
   ]
  },
  {
   "cell_type": "code",
   "execution_count": 302,
   "metadata": {},
   "outputs": [],
   "source": [
    "#seacr by Lagos\n",
    "Lagos =  driver.find_element(By.XPATH,'//*[@id=\"rmjs-1\"]/li[25]/a')\n",
    "Lagos.click()\n",
    "time.sleep(1)"
   ]
  },
  {
   "cell_type": "code",
   "execution_count": 303,
   "metadata": {},
   "outputs": [
    {
     "name": "stdout",
     "output_type": "stream",
     "text": [
      "Scraping page 1: https://nigeriapropertycentre.com/for-rent/flats-apartments/lagos/showtype\n",
      "Number of next buttons found: 1\n",
      "Scraping page 2: https://nigeriapropertycentre.com/for-rent/flats-apartments/lagos/showtype?page=2\n",
      "Number of next buttons found: 1\n",
      "Scraping page 3: https://nigeriapropertycentre.com/for-rent/flats-apartments/lagos/showtype?page=3\n",
      "Number of next buttons found: 1\n",
      "Scraping page 4: https://nigeriapropertycentre.com/for-rent/flats-apartments/lagos/showtype?page=4\n",
      "Number of next buttons found: 1\n",
      "Scraping page 5: https://nigeriapropertycentre.com/for-rent/flats-apartments/lagos/showtype?page=5\n",
      "Number of next buttons found: 1\n",
      "Scraping page 6: https://nigeriapropertycentre.com/for-rent/flats-apartments/lagos/showtype?page=6\n",
      "Number of next buttons found: 1\n",
      "Scraping page 7: https://nigeriapropertycentre.com/for-rent/flats-apartments/lagos/showtype?page=7\n",
      "Number of next buttons found: 1\n",
      "Scraping page 8: https://nigeriapropertycentre.com/for-rent/flats-apartments/lagos/showtype?page=8\n",
      "Number of next buttons found: 1\n",
      "Scraping page 9: https://nigeriapropertycentre.com/for-rent/flats-apartments/lagos/showtype?page=9\n",
      "Number of next buttons found: 1\n",
      "Scraping page 10: https://nigeriapropertycentre.com/for-rent/flats-apartments/lagos/showtype?page=10\n",
      "Number of next buttons found: 1\n"
     ]
    }
   ],
   "source": [
    "\n",
    "\n",
    "for k in range(1, 700, 1):\n",
    "    Rooms = driver.find_elements(By.XPATH, '//a/h4[@class=\"content-title\"]')\n",
    "    Locations = driver.find_elements(By.XPATH, '//div[3]/address/strong')\n",
    "    Descriptions = driver.find_elements(By.XPATH, '//div[@class=\"description hidden-xs\"]/p')\n",
    "    Durations = driver.find_elements(By.XPATH, '//span[@class=\"added-on added-recently\"] ')\n",
    "    Prices = driver.find_elements(By.XPATH, \"//span[1]/span[2]\")\n",
    "    Bedrooms = driver.find_elements(By.XPATH, \"//div/div/div[4]/ul/li[1]/span[1]\") \n",
    "    Bathrooms = driver.find_elements(By.XPATH, \"//div/div/div[4]/ul/li[2]/span[1]\")\n",
    "    Toilets = driver.find_elements(By.XPATH, \"//div/div/div[4]/ul/li[3]/span[1]\")\n",
    "    Parkings = driver.find_elements(By.XPATH, \"//div/div/div[4]/ul/li[4]/span[1]\")\n",
    "\n",
    "    with open(\"real_estate.csv\", \"a\", encoding=\"utf-8\") as file:\n",
    "        for i in range(len(Rooms)):\n",
    "            file.write(Rooms[i].text.replace(',', '') + \",\" + Locations[i].text.replace(',', '') + \",\"  \n",
    "                   + Descriptions[i].text.replace(',', '') + \",\" + (Durations[i].text.replace(',', '') if len(Durations) > i else \"\") + \",\" \n",
    "                   + Prices[i].text.replace(',', '').replace(',', '') + \",\" \n",
    "                   + (Bedrooms[i].text.replace(',', '').replace(',', '') if len(Bedrooms) > i else \"\") + \",\"\n",
    "                   + (Bathrooms[i].text.replace(',', '').replace(',', '') if len(Bathrooms) > i else \"\") + \",\"\n",
    "                   + (Toilets[i].text.replace(',', '').replace(',', '') if len(Toilets) > i else \"\") + \",\"\n",
    "                   + (Parkings[i].text.replace(',', '').replace(',', '') if len(Parkings) > i else \"\") + \",\"\n",
    "                   + \"\\n\")\n",
    "    \n",
    "    # Add a small delay to allow the page to load\n",
    "    time.sleep(2)\n",
    "    \n",
    "    current_url = driver.current_url\n",
    "    print(f\"Scraping page {k}: {current_url}\")\n",
    "    \n",
    "    driver.find_element(By.LINK_TEXT,'›')\n",
    "    \n",
    "    next_buttons = driver.find_elements(By.LINK_TEXT,'›')\n",
    "    print(f\"Number of next buttons found: {len(next_buttons)}\")\n",
    "    \n",
    "    if len(next_buttons) > 0:\n",
    "        next_button = next_buttons[0]\n",
    "        next_button.click()\n",
    "    else:\n",
    "        break\n"
   ]
  },
  {
   "cell_type": "code",
   "execution_count": 304,
   "metadata": {},
   "outputs": [
    {
     "name": "stdout",
     "output_type": "stream",
     "text": [
      "Rooms length: 21\n",
      "Locations length: 21\n",
      "Descriptions length: 21\n",
      "Durations length: 20\n",
      "Prices length: 21\n",
      "Bedrooms length: 21\n",
      "Bathrooms length: 26\n",
      "Toilets length: 23\n",
      "Parkings length: 8\n"
     ]
    }
   ],
   "source": [
    "print(\"Rooms length:\", len(Rooms))\n",
    "print(\"Locations length:\", len(Locations))\n",
    "print(\"Descriptions length:\", len(Descriptions))\n",
    "print(\"Durations length:\", len(Durations))\n",
    "print(\"Prices length:\", len(Prices))\n",
    "print(\"Bedrooms length:\", len(Bedrooms))\n",
    "print(\"Bathrooms length:\", len(Bathrooms))\n",
    "print(\"Toilets length:\", len(Toilets))\n",
    "print(\"Parkings length:\", len(Parkings))\n"
   ]
  }
 ],
 "metadata": {
  "kernelspec": {
   "display_name": "Python 3",
   "language": "python",
   "name": "python3"
  },
  "language_info": {
   "codemirror_mode": {
    "name": "ipython",
    "version": 3
   },
   "file_extension": ".py",
   "mimetype": "text/x-python",
   "name": "python",
   "nbconvert_exporter": "python",
   "pygments_lexer": "ipython3",
   "version": "3.10.10"
  },
  "orig_nbformat": 4
 },
 "nbformat": 4,
 "nbformat_minor": 2
}
